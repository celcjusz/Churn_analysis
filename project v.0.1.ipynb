{
 "cells": [
  {
   "cell_type": "code",
   "execution_count": 12,
   "metadata": {},
   "outputs": [],
   "source": [
    "import numpy as np\n",
    "import pandas as pd"
   ]
  },
  {
   "cell_type": "code",
   "execution_count": 13,
   "metadata": {},
   "outputs": [
    {
     "data": {
      "text/html": [
       "<div>\n",
       "<style scoped>\n",
       "    .dataframe tbody tr th:only-of-type {\n",
       "        vertical-align: middle;\n",
       "    }\n",
       "\n",
       "    .dataframe tbody tr th {\n",
       "        vertical-align: top;\n",
       "    }\n",
       "\n",
       "    .dataframe thead th {\n",
       "        text-align: right;\n",
       "    }\n",
       "</style>\n",
       "<table border=\"1\" class=\"dataframe\">\n",
       "  <thead>\n",
       "    <tr style=\"text-align: right;\">\n",
       "      <th></th>\n",
       "      <th>rev_Mean</th>\n",
       "      <th>mou_Mean</th>\n",
       "      <th>totmrc_Mean</th>\n",
       "      <th>da_Mean</th>\n",
       "      <th>ovrmou_Mean</th>\n",
       "      <th>ovrrev_Mean</th>\n",
       "      <th>vceovr_Mean</th>\n",
       "      <th>datovr_Mean</th>\n",
       "      <th>roam_Mean</th>\n",
       "      <th>change_mou</th>\n",
       "      <th>...</th>\n",
       "      <th>forgntvl</th>\n",
       "      <th>ethnic</th>\n",
       "      <th>kid0_2</th>\n",
       "      <th>kid3_5</th>\n",
       "      <th>kid6_10</th>\n",
       "      <th>kid11_15</th>\n",
       "      <th>kid16_17</th>\n",
       "      <th>creditcd</th>\n",
       "      <th>eqpdays</th>\n",
       "      <th>Customer_ID</th>\n",
       "    </tr>\n",
       "  </thead>\n",
       "  <tbody>\n",
       "    <tr>\n",
       "      <th>0</th>\n",
       "      <td>23.9975</td>\n",
       "      <td>219.25</td>\n",
       "      <td>22.500</td>\n",
       "      <td>0.2475</td>\n",
       "      <td>0.00</td>\n",
       "      <td>0.0</td>\n",
       "      <td>0.0</td>\n",
       "      <td>0.0</td>\n",
       "      <td>0.0</td>\n",
       "      <td>-157.25</td>\n",
       "      <td>...</td>\n",
       "      <td>0.0</td>\n",
       "      <td>N</td>\n",
       "      <td>U</td>\n",
       "      <td>U</td>\n",
       "      <td>U</td>\n",
       "      <td>U</td>\n",
       "      <td>U</td>\n",
       "      <td>Y</td>\n",
       "      <td>361.0</td>\n",
       "      <td>1000001</td>\n",
       "    </tr>\n",
       "    <tr>\n",
       "      <th>1</th>\n",
       "      <td>57.4925</td>\n",
       "      <td>482.75</td>\n",
       "      <td>37.425</td>\n",
       "      <td>0.2475</td>\n",
       "      <td>22.75</td>\n",
       "      <td>9.1</td>\n",
       "      <td>9.1</td>\n",
       "      <td>0.0</td>\n",
       "      <td>0.0</td>\n",
       "      <td>532.25</td>\n",
       "      <td>...</td>\n",
       "      <td>0.0</td>\n",
       "      <td>Z</td>\n",
       "      <td>U</td>\n",
       "      <td>U</td>\n",
       "      <td>U</td>\n",
       "      <td>U</td>\n",
       "      <td>U</td>\n",
       "      <td>Y</td>\n",
       "      <td>240.0</td>\n",
       "      <td>1000002</td>\n",
       "    </tr>\n",
       "    <tr>\n",
       "      <th>2</th>\n",
       "      <td>16.9900</td>\n",
       "      <td>10.25</td>\n",
       "      <td>16.990</td>\n",
       "      <td>0.0000</td>\n",
       "      <td>0.00</td>\n",
       "      <td>0.0</td>\n",
       "      <td>0.0</td>\n",
       "      <td>0.0</td>\n",
       "      <td>0.0</td>\n",
       "      <td>-4.25</td>\n",
       "      <td>...</td>\n",
       "      <td>0.0</td>\n",
       "      <td>N</td>\n",
       "      <td>U</td>\n",
       "      <td>Y</td>\n",
       "      <td>U</td>\n",
       "      <td>U</td>\n",
       "      <td>U</td>\n",
       "      <td>Y</td>\n",
       "      <td>1504.0</td>\n",
       "      <td>1000003</td>\n",
       "    </tr>\n",
       "    <tr>\n",
       "      <th>3</th>\n",
       "      <td>38.0000</td>\n",
       "      <td>7.50</td>\n",
       "      <td>38.000</td>\n",
       "      <td>0.0000</td>\n",
       "      <td>0.00</td>\n",
       "      <td>0.0</td>\n",
       "      <td>0.0</td>\n",
       "      <td>0.0</td>\n",
       "      <td>0.0</td>\n",
       "      <td>-1.50</td>\n",
       "      <td>...</td>\n",
       "      <td>0.0</td>\n",
       "      <td>U</td>\n",
       "      <td>Y</td>\n",
       "      <td>U</td>\n",
       "      <td>U</td>\n",
       "      <td>U</td>\n",
       "      <td>U</td>\n",
       "      <td>Y</td>\n",
       "      <td>1812.0</td>\n",
       "      <td>1000004</td>\n",
       "    </tr>\n",
       "    <tr>\n",
       "      <th>4</th>\n",
       "      <td>55.2300</td>\n",
       "      <td>570.50</td>\n",
       "      <td>71.980</td>\n",
       "      <td>0.0000</td>\n",
       "      <td>0.00</td>\n",
       "      <td>0.0</td>\n",
       "      <td>0.0</td>\n",
       "      <td>0.0</td>\n",
       "      <td>0.0</td>\n",
       "      <td>38.50</td>\n",
       "      <td>...</td>\n",
       "      <td>0.0</td>\n",
       "      <td>I</td>\n",
       "      <td>U</td>\n",
       "      <td>U</td>\n",
       "      <td>U</td>\n",
       "      <td>U</td>\n",
       "      <td>U</td>\n",
       "      <td>Y</td>\n",
       "      <td>434.0</td>\n",
       "      <td>1000005</td>\n",
       "    </tr>\n",
       "  </tbody>\n",
       "</table>\n",
       "<p>5 rows × 100 columns</p>\n",
       "</div>"
      ],
      "text/plain": [
       "   rev_Mean  mou_Mean  totmrc_Mean  da_Mean  ovrmou_Mean  ovrrev_Mean  \\\n",
       "0   23.9975    219.25       22.500   0.2475         0.00          0.0   \n",
       "1   57.4925    482.75       37.425   0.2475        22.75          9.1   \n",
       "2   16.9900     10.25       16.990   0.0000         0.00          0.0   \n",
       "3   38.0000      7.50       38.000   0.0000         0.00          0.0   \n",
       "4   55.2300    570.50       71.980   0.0000         0.00          0.0   \n",
       "\n",
       "   vceovr_Mean  datovr_Mean  roam_Mean  change_mou     ...       forgntvl  \\\n",
       "0          0.0          0.0        0.0     -157.25     ...            0.0   \n",
       "1          9.1          0.0        0.0      532.25     ...            0.0   \n",
       "2          0.0          0.0        0.0       -4.25     ...            0.0   \n",
       "3          0.0          0.0        0.0       -1.50     ...            0.0   \n",
       "4          0.0          0.0        0.0       38.50     ...            0.0   \n",
       "\n",
       "   ethnic  kid0_2  kid3_5  kid6_10  kid11_15  kid16_17  creditcd  eqpdays  \\\n",
       "0       N       U       U        U         U         U         Y    361.0   \n",
       "1       Z       U       U        U         U         U         Y    240.0   \n",
       "2       N       U       Y        U         U         U         Y   1504.0   \n",
       "3       U       Y       U        U         U         U         Y   1812.0   \n",
       "4       I       U       U        U         U         U         Y    434.0   \n",
       "\n",
       "   Customer_ID  \n",
       "0      1000001  \n",
       "1      1000002  \n",
       "2      1000003  \n",
       "3      1000004  \n",
       "4      1000005  \n",
       "\n",
       "[5 rows x 100 columns]"
      ]
     },
     "execution_count": 13,
     "metadata": {},
     "output_type": "execute_result"
    }
   ],
   "source": [
    "churn_data = pd.read_csv(r'C:\\Documents\\DS Bootcamp\\Projekt\\Data\\Telecom_customer churn.csv')\n",
    "churn_data.head()"
   ]
  },
  {
   "cell_type": "code",
   "execution_count": 101,
   "metadata": {},
   "outputs": [],
   "source": [
    "desc = churn_data.describe()\n"
   ]
  },
  {
   "cell_type": "code",
   "execution_count": 120,
   "metadata": {},
   "outputs": [],
   "source": [
    "# desc = desc.loc[desc.min == 0.0:,]\n",
    "# desc"
   ]
  },
  {
   "cell_type": "code",
   "execution_count": 15,
   "metadata": {
    "collapsed": true
   },
   "outputs": [
    {
     "name": "stdout",
     "output_type": "stream",
     "text": [
      "<class 'pandas.core.frame.DataFrame'>\n",
      "RangeIndex: 100000 entries, 0 to 99999\n",
      "Data columns (total 100 columns):\n",
      "rev_Mean            99643 non-null float64\n",
      "mou_Mean            99643 non-null float64\n",
      "totmrc_Mean         99643 non-null float64\n",
      "da_Mean             99643 non-null float64\n",
      "ovrmou_Mean         99643 non-null float64\n",
      "ovrrev_Mean         99643 non-null float64\n",
      "vceovr_Mean         99643 non-null float64\n",
      "datovr_Mean         99643 non-null float64\n",
      "roam_Mean           99643 non-null float64\n",
      "change_mou          99109 non-null float64\n",
      "change_rev          99109 non-null float64\n",
      "drop_vce_Mean       100000 non-null float64\n",
      "drop_dat_Mean       100000 non-null float64\n",
      "blck_vce_Mean       100000 non-null float64\n",
      "blck_dat_Mean       100000 non-null float64\n",
      "unan_vce_Mean       100000 non-null float64\n",
      "unan_dat_Mean       100000 non-null float64\n",
      "plcd_vce_Mean       100000 non-null float64\n",
      "plcd_dat_Mean       100000 non-null float64\n",
      "recv_vce_Mean       100000 non-null float64\n",
      "recv_sms_Mean       100000 non-null float64\n",
      "comp_vce_Mean       100000 non-null float64\n",
      "comp_dat_Mean       100000 non-null float64\n",
      "custcare_Mean       100000 non-null float64\n",
      "ccrndmou_Mean       100000 non-null float64\n",
      "cc_mou_Mean         100000 non-null float64\n",
      "inonemin_Mean       100000 non-null float64\n",
      "threeway_Mean       100000 non-null float64\n",
      "mou_cvce_Mean       100000 non-null float64\n",
      "mou_cdat_Mean       100000 non-null float64\n",
      "mou_rvce_Mean       100000 non-null float64\n",
      "owylis_vce_Mean     100000 non-null float64\n",
      "mouowylisv_Mean     100000 non-null float64\n",
      "iwylis_vce_Mean     100000 non-null float64\n",
      "mouiwylisv_Mean     100000 non-null float64\n",
      "peak_vce_Mean       100000 non-null float64\n",
      "peak_dat_Mean       100000 non-null float64\n",
      "mou_peav_Mean       100000 non-null float64\n",
      "mou_pead_Mean       100000 non-null float64\n",
      "opk_vce_Mean        100000 non-null float64\n",
      "opk_dat_Mean        100000 non-null float64\n",
      "mou_opkv_Mean       100000 non-null float64\n",
      "mou_opkd_Mean       100000 non-null float64\n",
      "drop_blk_Mean       100000 non-null float64\n",
      "attempt_Mean        100000 non-null float64\n",
      "complete_Mean       100000 non-null float64\n",
      "callfwdv_Mean       100000 non-null float64\n",
      "callwait_Mean       100000 non-null float64\n",
      "churn               100000 non-null int64\n",
      "months              100000 non-null int64\n",
      "uniqsubs            100000 non-null int64\n",
      "actvsubs            100000 non-null int64\n",
      "new_cell            100000 non-null object\n",
      "crclscod            100000 non-null object\n",
      "asl_flag            100000 non-null object\n",
      "totcalls            100000 non-null int64\n",
      "totmou              100000 non-null float64\n",
      "totrev              100000 non-null float64\n",
      "adjrev              100000 non-null float64\n",
      "adjmou              100000 non-null float64\n",
      "adjqty              100000 non-null int64\n",
      "avgrev              100000 non-null float64\n",
      "avgmou              100000 non-null float64\n",
      "avgqty              100000 non-null float64\n",
      "avg3mou             100000 non-null int64\n",
      "avg3qty             100000 non-null int64\n",
      "avg3rev             100000 non-null int64\n",
      "avg6mou             97161 non-null float64\n",
      "avg6qty             97161 non-null float64\n",
      "avg6rev             97161 non-null float64\n",
      "prizm_social_one    92612 non-null object\n",
      "area                99960 non-null object\n",
      "dualband            99999 non-null object\n",
      "refurb_new          99999 non-null object\n",
      "hnd_price           99153 non-null float64\n",
      "phones              99999 non-null float64\n",
      "models              99999 non-null float64\n",
      "hnd_webcap          89811 non-null object\n",
      "truck               98268 non-null float64\n",
      "rv                  98268 non-null float64\n",
      "ownrent             66294 non-null object\n",
      "lor                 69810 non-null float64\n",
      "dwlltype            68091 non-null object\n",
      "marital             98268 non-null object\n",
      "adults              76981 non-null float64\n",
      "infobase            77921 non-null object\n",
      "income              74564 non-null float64\n",
      "numbcars            50634 non-null float64\n",
      "HHstatin            62077 non-null object\n",
      "dwllsize            61692 non-null object\n",
      "forgntvl            98268 non-null float64\n",
      "ethnic              98268 non-null object\n",
      "kid0_2              98268 non-null object\n",
      "kid3_5              98268 non-null object\n",
      "kid6_10             98268 non-null object\n",
      "kid11_15            98268 non-null object\n",
      "kid16_17            98268 non-null object\n",
      "creditcd            98268 non-null object\n",
      "eqpdays             99999 non-null float64\n",
      "Customer_ID         100000 non-null int64\n",
      "dtypes: float64(69), int64(10), object(21)\n",
      "memory usage: 76.3+ MB\n"
     ]
    }
   ],
   "source": [
    "churn_data.info()"
   ]
  },
  {
   "cell_type": "code",
   "execution_count": 16,
   "metadata": {},
   "outputs": [],
   "source": [
    "cols = pd.read_csv('C:\\Documents\\DS Bootcamp\\Projekt\\Data\\Telecom_customer churn columns.csv', header=None)\n"
   ]
  },
  {
   "cell_type": "code",
   "execution_count": null,
   "metadata": {},
   "outputs": [],
   "source": []
  },
  {
   "cell_type": "code",
   "execution_count": 123,
   "metadata": {},
   "outputs": [],
   "source": [
    "columns_tab = pd.DataFrame(columns=[\"Data_type\", \"Column_name\", \"Column_description\"])"
   ]
  },
  {
   "cell_type": "code",
   "execution_count": 124,
   "metadata": {
    "scrolled": true
   },
   "outputs": [
    {
     "data": {
      "text/html": [
       "<div>\n",
       "<style scoped>\n",
       "    .dataframe tbody tr th:only-of-type {\n",
       "        vertical-align: middle;\n",
       "    }\n",
       "\n",
       "    .dataframe tbody tr th {\n",
       "        vertical-align: top;\n",
       "    }\n",
       "\n",
       "    .dataframe thead th {\n",
       "        text-align: right;\n",
       "    }\n",
       "</style>\n",
       "<table border=\"1\" class=\"dataframe\">\n",
       "  <thead>\n",
       "    <tr style=\"text-align: right;\">\n",
       "      <th></th>\n",
       "      <th>Data_type</th>\n",
       "      <th>Column_name</th>\n",
       "      <th>Column_description</th>\n",
       "    </tr>\n",
       "  </thead>\n",
       "  <tbody>\n",
       "    <tr>\n",
       "      <th>0</th>\n",
       "      <td>Numeric</td>\n",
       "      <td>rev_Mean</td>\n",
       "      <td>Mean monthly revenue (charge amount)</td>\n",
       "    </tr>\n",
       "    <tr>\n",
       "      <th>1</th>\n",
       "      <td>Numeric</td>\n",
       "      <td>mou_Mean</td>\n",
       "      <td>Mean number of monthly minutes of use</td>\n",
       "    </tr>\n",
       "    <tr>\n",
       "      <th>2</th>\n",
       "      <td>Numeric</td>\n",
       "      <td>totmrc_Mean</td>\n",
       "      <td>Mean total monthly recurring charge</td>\n",
       "    </tr>\n",
       "    <tr>\n",
       "      <th>3</th>\n",
       "      <td>Numeric</td>\n",
       "      <td>da_Mean</td>\n",
       "      <td>Mean number of directory assisted calls</td>\n",
       "    </tr>\n",
       "    <tr>\n",
       "      <th>4</th>\n",
       "      <td>Numeric</td>\n",
       "      <td>ovrmou_Mean</td>\n",
       "      <td>Mean overage minutes of use</td>\n",
       "    </tr>\n",
       "    <tr>\n",
       "      <th>5</th>\n",
       "      <td>Numeric</td>\n",
       "      <td>ovrrev_Mean</td>\n",
       "      <td>Mean overage revenue</td>\n",
       "    </tr>\n",
       "    <tr>\n",
       "      <th>6</th>\n",
       "      <td>Numeric</td>\n",
       "      <td>vceovr_Mean</td>\n",
       "      <td>Mean revenue of voice overage</td>\n",
       "    </tr>\n",
       "    <tr>\n",
       "      <th>7</th>\n",
       "      <td>Numeric</td>\n",
       "      <td>datovr_Mean</td>\n",
       "      <td>Mean revenue of data overage</td>\n",
       "    </tr>\n",
       "    <tr>\n",
       "      <th>8</th>\n",
       "      <td>Numeric</td>\n",
       "      <td>roam_Mean</td>\n",
       "      <td>Mean number of roaming calls</td>\n",
       "    </tr>\n",
       "    <tr>\n",
       "      <th>9</th>\n",
       "      <td>Numeric</td>\n",
       "      <td>change_mou</td>\n",
       "      <td>Percentage change in monthly minutes of use vs...</td>\n",
       "    </tr>\n",
       "    <tr>\n",
       "      <th>10</th>\n",
       "      <td>Numeric</td>\n",
       "      <td>change_rev</td>\n",
       "      <td>Percentage change in monthly revenue vs previ...</td>\n",
       "    </tr>\n",
       "    <tr>\n",
       "      <th>11</th>\n",
       "      <td>Numeric</td>\n",
       "      <td>drop_vce_Mean</td>\n",
       "      <td>Mean number of dropped (failed) voice calls</td>\n",
       "    </tr>\n",
       "    <tr>\n",
       "      <th>12</th>\n",
       "      <td>Numeric</td>\n",
       "      <td>drop_dat_Mean</td>\n",
       "      <td>Mean number of dropped (failed) data calls</td>\n",
       "    </tr>\n",
       "    <tr>\n",
       "      <th>13</th>\n",
       "      <td>Numeric</td>\n",
       "      <td>blck_vce_Mean</td>\n",
       "      <td>Mean number of blocked (failed) voice calls</td>\n",
       "    </tr>\n",
       "    <tr>\n",
       "      <th>14</th>\n",
       "      <td>Numeric</td>\n",
       "      <td>blck_dat_Mean</td>\n",
       "      <td>Mean number of blocked (failed) data calls</td>\n",
       "    </tr>\n",
       "    <tr>\n",
       "      <th>15</th>\n",
       "      <td>Numeric</td>\n",
       "      <td>unan_vce_Mean</td>\n",
       "      <td>Mean number of unanswered voice calls</td>\n",
       "    </tr>\n",
       "    <tr>\n",
       "      <th>16</th>\n",
       "      <td>Numeric</td>\n",
       "      <td>unan_dat_Mean</td>\n",
       "      <td>Mean number of unanswered data calls</td>\n",
       "    </tr>\n",
       "    <tr>\n",
       "      <th>17</th>\n",
       "      <td>Numeric</td>\n",
       "      <td>plcd_vce_Mean</td>\n",
       "      <td>Mean number of attempted voice calls placed</td>\n",
       "    </tr>\n",
       "    <tr>\n",
       "      <th>18</th>\n",
       "      <td>Numeric</td>\n",
       "      <td>plcd_dat_Mean</td>\n",
       "      <td>Mean number of attempted data calls placed</td>\n",
       "    </tr>\n",
       "    <tr>\n",
       "      <th>19</th>\n",
       "      <td>Numeric</td>\n",
       "      <td>recv_vce_Mean</td>\n",
       "      <td>Mean number of received voice calls</td>\n",
       "    </tr>\n",
       "    <tr>\n",
       "      <th>20</th>\n",
       "      <td>Numeric</td>\n",
       "      <td>recv_sms_Mean</td>\n",
       "      <td>N</td>\n",
       "    </tr>\n",
       "    <tr>\n",
       "      <th>21</th>\n",
       "      <td>Numeric</td>\n",
       "      <td>comp_vce_Mean</td>\n",
       "      <td>Mean number of completed voice calls</td>\n",
       "    </tr>\n",
       "    <tr>\n",
       "      <th>22</th>\n",
       "      <td>Numeric</td>\n",
       "      <td>comp_dat_Mean</td>\n",
       "      <td>Mean number of completed data calls</td>\n",
       "    </tr>\n",
       "    <tr>\n",
       "      <th>23</th>\n",
       "      <td>Numeric</td>\n",
       "      <td>custcare_Mean</td>\n",
       "      <td>Mean number of customer care calls</td>\n",
       "    </tr>\n",
       "    <tr>\n",
       "      <th>24</th>\n",
       "      <td>Numeric</td>\n",
       "      <td>ccrndmou_Mean</td>\n",
       "      <td>Mean rounded minutes of use of customer care c...</td>\n",
       "    </tr>\n",
       "    <tr>\n",
       "      <th>25</th>\n",
       "      <td>Numeric</td>\n",
       "      <td>cc_mou_Mean</td>\n",
       "      <td>Mean unrounded minutes of use of customer care...</td>\n",
       "    </tr>\n",
       "    <tr>\n",
       "      <th>26</th>\n",
       "      <td>Numeric</td>\n",
       "      <td>inonemin_Mean</td>\n",
       "      <td>Mean number of inbound calls less than one minute</td>\n",
       "    </tr>\n",
       "    <tr>\n",
       "      <th>27</th>\n",
       "      <td>Numeric</td>\n",
       "      <td>threeway_Mean</td>\n",
       "      <td>Mean number of three way calls</td>\n",
       "    </tr>\n",
       "    <tr>\n",
       "      <th>28</th>\n",
       "      <td>Numeric</td>\n",
       "      <td>mou_cvce_Mean</td>\n",
       "      <td>Mean unrounded minutes of use of completed voi...</td>\n",
       "    </tr>\n",
       "    <tr>\n",
       "      <th>29</th>\n",
       "      <td>Numeric</td>\n",
       "      <td>mou_cdat_Mean</td>\n",
       "      <td>Mean unrounded minutes of use of completed dat...</td>\n",
       "    </tr>\n",
       "    <tr>\n",
       "      <th>...</th>\n",
       "      <td>...</td>\n",
       "      <td>...</td>\n",
       "      <td>...</td>\n",
       "    </tr>\n",
       "    <tr>\n",
       "      <th>70</th>\n",
       "      <td>String</td>\n",
       "      <td>prizm_social_one</td>\n",
       "      <td>Social group letter only</td>\n",
       "    </tr>\n",
       "    <tr>\n",
       "      <th>71</th>\n",
       "      <td>String</td>\n",
       "      <td>area</td>\n",
       "      <td>Geogrpahic area</td>\n",
       "    </tr>\n",
       "    <tr>\n",
       "      <th>72</th>\n",
       "      <td>String</td>\n",
       "      <td>dualband</td>\n",
       "      <td>Dualband</td>\n",
       "    </tr>\n",
       "    <tr>\n",
       "      <th>73</th>\n",
       "      <td>String</td>\n",
       "      <td>refurb_new</td>\n",
       "      <td>Handset: refurbished or new</td>\n",
       "    </tr>\n",
       "    <tr>\n",
       "      <th>74</th>\n",
       "      <td>Numeric</td>\n",
       "      <td>hnd_price</td>\n",
       "      <td>Current handset price</td>\n",
       "    </tr>\n",
       "    <tr>\n",
       "      <th>75</th>\n",
       "      <td>Numeric</td>\n",
       "      <td>phones</td>\n",
       "      <td>Number of handsets issued</td>\n",
       "    </tr>\n",
       "    <tr>\n",
       "      <th>76</th>\n",
       "      <td>Numeric</td>\n",
       "      <td>models</td>\n",
       "      <td>Number of models issued</td>\n",
       "    </tr>\n",
       "    <tr>\n",
       "      <th>77</th>\n",
       "      <td>String</td>\n",
       "      <td>hnd_webcap</td>\n",
       "      <td>Handset web capability</td>\n",
       "    </tr>\n",
       "    <tr>\n",
       "      <th>78</th>\n",
       "      <td>Numeric</td>\n",
       "      <td>truck</td>\n",
       "      <td>Truck indicator</td>\n",
       "    </tr>\n",
       "    <tr>\n",
       "      <th>79</th>\n",
       "      <td>Numeric</td>\n",
       "      <td>rv</td>\n",
       "      <td>RV indicator</td>\n",
       "    </tr>\n",
       "    <tr>\n",
       "      <th>80</th>\n",
       "      <td>String</td>\n",
       "      <td>ownrent</td>\n",
       "      <td>Home owner/renter status</td>\n",
       "    </tr>\n",
       "    <tr>\n",
       "      <th>81</th>\n",
       "      <td>Numeric</td>\n",
       "      <td>lor</td>\n",
       "      <td>Length of residence</td>\n",
       "    </tr>\n",
       "    <tr>\n",
       "      <th>82</th>\n",
       "      <td>String</td>\n",
       "      <td>dwlltype</td>\n",
       "      <td>Dwelling Unit type</td>\n",
       "    </tr>\n",
       "    <tr>\n",
       "      <th>83</th>\n",
       "      <td>String</td>\n",
       "      <td>marital</td>\n",
       "      <td>Marital Status</td>\n",
       "    </tr>\n",
       "    <tr>\n",
       "      <th>84</th>\n",
       "      <td>Numeric</td>\n",
       "      <td>adults</td>\n",
       "      <td>Number of adults in household</td>\n",
       "    </tr>\n",
       "    <tr>\n",
       "      <th>85</th>\n",
       "      <td>String</td>\n",
       "      <td>infobase</td>\n",
       "      <td>InfoBase match</td>\n",
       "    </tr>\n",
       "    <tr>\n",
       "      <th>86</th>\n",
       "      <td>Numeric</td>\n",
       "      <td>income</td>\n",
       "      <td>Estimated income</td>\n",
       "    </tr>\n",
       "    <tr>\n",
       "      <th>87</th>\n",
       "      <td>Numeric</td>\n",
       "      <td>numbcars</td>\n",
       "      <td>Known number of vehicles</td>\n",
       "    </tr>\n",
       "    <tr>\n",
       "      <th>88</th>\n",
       "      <td>String</td>\n",
       "      <td>HHstatin</td>\n",
       "      <td>Premier household status indicator</td>\n",
       "    </tr>\n",
       "    <tr>\n",
       "      <th>89</th>\n",
       "      <td>String</td>\n",
       "      <td>dwllsize</td>\n",
       "      <td>Dwelling size</td>\n",
       "    </tr>\n",
       "    <tr>\n",
       "      <th>90</th>\n",
       "      <td>Numeric</td>\n",
       "      <td>forgntvl</td>\n",
       "      <td>Foreign travel dummy variable</td>\n",
       "    </tr>\n",
       "    <tr>\n",
       "      <th>91</th>\n",
       "      <td>String</td>\n",
       "      <td>ethnic</td>\n",
       "      <td>Ethnicity roll-up code</td>\n",
       "    </tr>\n",
       "    <tr>\n",
       "      <th>92</th>\n",
       "      <td>String</td>\n",
       "      <td>kid0_2</td>\n",
       "      <td>Child 0 - 2 years of age in household</td>\n",
       "    </tr>\n",
       "    <tr>\n",
       "      <th>93</th>\n",
       "      <td>String</td>\n",
       "      <td>kid3_5</td>\n",
       "      <td>Child 3 - 5 years of age in household</td>\n",
       "    </tr>\n",
       "    <tr>\n",
       "      <th>94</th>\n",
       "      <td>String</td>\n",
       "      <td>kid6_10</td>\n",
       "      <td>Child 6 - 10 years of age in household</td>\n",
       "    </tr>\n",
       "    <tr>\n",
       "      <th>95</th>\n",
       "      <td>String</td>\n",
       "      <td>kid11_15</td>\n",
       "      <td>Child 11 - 15 years of age in household</td>\n",
       "    </tr>\n",
       "    <tr>\n",
       "      <th>96</th>\n",
       "      <td>String</td>\n",
       "      <td>kid16_17</td>\n",
       "      <td>Child 16 - 17 years of age in household</td>\n",
       "    </tr>\n",
       "    <tr>\n",
       "      <th>97</th>\n",
       "      <td>String</td>\n",
       "      <td>creditcd</td>\n",
       "      <td>Credit card indicator</td>\n",
       "    </tr>\n",
       "    <tr>\n",
       "      <th>98</th>\n",
       "      <td>Numeric</td>\n",
       "      <td>eqpdays</td>\n",
       "      <td>Number of days (age) of current equipment</td>\n",
       "    </tr>\n",
       "    <tr>\n",
       "      <th>99</th>\n",
       "      <td>Numeric</td>\n",
       "      <td>Customer_ID</td>\n",
       "      <td>N</td>\n",
       "    </tr>\n",
       "  </tbody>\n",
       "</table>\n",
       "<p>100 rows × 3 columns</p>\n",
       "</div>"
      ],
      "text/plain": [
       "   Data_type       Column_name  \\\n",
       "0    Numeric          rev_Mean   \n",
       "1    Numeric          mou_Mean   \n",
       "2    Numeric       totmrc_Mean   \n",
       "3    Numeric           da_Mean   \n",
       "4    Numeric       ovrmou_Mean   \n",
       "5    Numeric       ovrrev_Mean   \n",
       "6    Numeric       vceovr_Mean   \n",
       "7    Numeric       datovr_Mean   \n",
       "8    Numeric         roam_Mean   \n",
       "9    Numeric        change_mou   \n",
       "10   Numeric        change_rev   \n",
       "11   Numeric     drop_vce_Mean   \n",
       "12   Numeric     drop_dat_Mean   \n",
       "13   Numeric     blck_vce_Mean   \n",
       "14   Numeric     blck_dat_Mean   \n",
       "15   Numeric     unan_vce_Mean   \n",
       "16   Numeric     unan_dat_Mean   \n",
       "17   Numeric     plcd_vce_Mean   \n",
       "18   Numeric     plcd_dat_Mean   \n",
       "19   Numeric     recv_vce_Mean   \n",
       "20   Numeric     recv_sms_Mean   \n",
       "21   Numeric     comp_vce_Mean   \n",
       "22   Numeric     comp_dat_Mean   \n",
       "23   Numeric     custcare_Mean   \n",
       "24   Numeric     ccrndmou_Mean   \n",
       "25   Numeric       cc_mou_Mean   \n",
       "26   Numeric     inonemin_Mean   \n",
       "27   Numeric     threeway_Mean   \n",
       "28   Numeric     mou_cvce_Mean   \n",
       "29   Numeric     mou_cdat_Mean   \n",
       "..       ...               ...   \n",
       "70    String  prizm_social_one   \n",
       "71    String              area   \n",
       "72    String          dualband   \n",
       "73    String        refurb_new   \n",
       "74   Numeric         hnd_price   \n",
       "75   Numeric            phones   \n",
       "76   Numeric            models   \n",
       "77    String        hnd_webcap   \n",
       "78   Numeric             truck   \n",
       "79   Numeric                rv   \n",
       "80    String           ownrent   \n",
       "81   Numeric               lor   \n",
       "82    String          dwlltype   \n",
       "83    String           marital   \n",
       "84   Numeric            adults   \n",
       "85    String          infobase   \n",
       "86   Numeric            income   \n",
       "87   Numeric          numbcars   \n",
       "88    String          HHstatin   \n",
       "89    String          dwllsize   \n",
       "90   Numeric          forgntvl   \n",
       "91    String            ethnic   \n",
       "92    String            kid0_2   \n",
       "93    String            kid3_5   \n",
       "94    String           kid6_10   \n",
       "95    String          kid11_15   \n",
       "96    String          kid16_17   \n",
       "97    String          creditcd   \n",
       "98   Numeric           eqpdays   \n",
       "99   Numeric       Customer_ID   \n",
       "\n",
       "                                   Column_description  \n",
       "0                Mean monthly revenue (charge amount)  \n",
       "1               Mean number of monthly minutes of use  \n",
       "2                 Mean total monthly recurring charge  \n",
       "3             Mean number of directory assisted calls  \n",
       "4                         Mean overage minutes of use  \n",
       "5                                Mean overage revenue  \n",
       "6                      Mean revenue of voice overage   \n",
       "7                        Mean revenue of data overage  \n",
       "8                        Mean number of roaming calls  \n",
       "9   Percentage change in monthly minutes of use vs...  \n",
       "10   Percentage change in monthly revenue vs previ...  \n",
       "11        Mean number of dropped (failed) voice calls  \n",
       "12         Mean number of dropped (failed) data calls  \n",
       "13        Mean number of blocked (failed) voice calls  \n",
       "14         Mean number of blocked (failed) data calls  \n",
       "15              Mean number of unanswered voice calls  \n",
       "16               Mean number of unanswered data calls  \n",
       "17        Mean number of attempted voice calls placed  \n",
       "18         Mean number of attempted data calls placed  \n",
       "19                Mean number of received voice calls  \n",
       "20                                                  N  \n",
       "21               Mean number of completed voice calls  \n",
       "22               Mean number of completed data calls   \n",
       "23                 Mean number of customer care calls  \n",
       "24  Mean rounded minutes of use of customer care c...  \n",
       "25  Mean unrounded minutes of use of customer care...  \n",
       "26  Mean number of inbound calls less than one minute  \n",
       "27                    Mean number of three way calls   \n",
       "28  Mean unrounded minutes of use of completed voi...  \n",
       "29  Mean unrounded minutes of use of completed dat...  \n",
       "..                                                ...  \n",
       "70                           Social group letter only  \n",
       "71                                   Geogrpahic area   \n",
       "72                                           Dualband  \n",
       "73                        Handset: refurbished or new  \n",
       "74                              Current handset price  \n",
       "75                          Number of handsets issued  \n",
       "76                            Number of models issued  \n",
       "77                             Handset web capability  \n",
       "78                                   Truck indicator   \n",
       "79                                       RV indicator  \n",
       "80                           Home owner/renter status  \n",
       "81                                Length of residence  \n",
       "82                                 Dwelling Unit type  \n",
       "83                                    Marital Status   \n",
       "84                      Number of adults in household  \n",
       "85                                     InfoBase match  \n",
       "86                                   Estimated income  \n",
       "87                           Known number of vehicles  \n",
       "88                 Premier household status indicator  \n",
       "89                                     Dwelling size   \n",
       "90                      Foreign travel dummy variable  \n",
       "91                             Ethnicity roll-up code  \n",
       "92              Child 0 - 2 years of age in household  \n",
       "93             Child 3 - 5 years of age in household   \n",
       "94             Child 6 - 10 years of age in household  \n",
       "95            Child 11 - 15 years of age in household  \n",
       "96            Child 16 - 17 years of age in household  \n",
       "97                              Credit card indicator  \n",
       "98          Number of days (age) of current equipment  \n",
       "99                                                  N  \n",
       "\n",
       "[100 rows x 3 columns]"
      ]
     },
     "execution_count": 124,
     "metadata": {},
     "output_type": "execute_result"
    }
   ],
   "source": [
    "#every third row corrsponds with column names in columns_tab\n",
    "columns_tab.Data_type = pd.Series(cols[0][cols.index%3==0].values)\n",
    "columns_tab.Column_name = pd.Series(cols[0][cols.index%3==1].values)\n",
    "columns_tab.Column_description = pd.Series(cols[0][cols.index%3==2].values)\n",
    "columns_tab"
   ]
  },
  {
   "cell_type": "markdown",
   "metadata": {},
   "source": [
    "## Data analysis"
   ]
  },
  {
   "cell_type": "markdown",
   "metadata": {},
   "source": [
    "There are 100 variables in the Dataset. It would be nice to determine if the data make sanse in terms of further churn prediction. Let's start with missing values and outliers.\n",
    "Charts and statistict seem to be the best ways to start with"
   ]
  },
  {
   "cell_type": "markdown",
   "metadata": {},
   "source": [
    "Values definitly need to be scaled\n"
   ]
  },
  {
   "cell_type": "code",
   "execution_count": 19,
   "metadata": {},
   "outputs": [],
   "source": [
    "nan_info = pd.DataFrame(columns=[\"Column_name\", \"Sum_NaN\", \"NaN_ratio\", \"Data_type\"], data=[[x, churn_data[x].isna().sum(), (churn_data[x].isna().sum() / len(churn_data[x]) * 100), churn_data[x].dtypes] for x in churn_data.columns])\n",
    "# nan_info.sort_values(by=[\"NaN_ratio\"], ascending=False)"
   ]
  },
  {
   "cell_type": "code",
   "execution_count": 20,
   "metadata": {
    "collapsed": true
   },
   "outputs": [
    {
     "data": {
      "text/html": [
       "<div>\n",
       "<style scoped>\n",
       "    .dataframe tbody tr th:only-of-type {\n",
       "        vertical-align: middle;\n",
       "    }\n",
       "\n",
       "    .dataframe tbody tr th {\n",
       "        vertical-align: top;\n",
       "    }\n",
       "\n",
       "    .dataframe thead th {\n",
       "        text-align: right;\n",
       "    }\n",
       "</style>\n",
       "<table border=\"1\" class=\"dataframe\">\n",
       "  <thead>\n",
       "    <tr style=\"text-align: right;\">\n",
       "      <th></th>\n",
       "      <th>Column_name</th>\n",
       "      <th>Sum_NaN</th>\n",
       "      <th>NaN_ratio</th>\n",
       "      <th>Data_type_x</th>\n",
       "      <th>Data_type_y</th>\n",
       "      <th>Column_description</th>\n",
       "    </tr>\n",
       "  </thead>\n",
       "  <tbody>\n",
       "    <tr>\n",
       "      <th>87</th>\n",
       "      <td>numbcars</td>\n",
       "      <td>49366</td>\n",
       "      <td>49.366</td>\n",
       "      <td>float64</td>\n",
       "      <td>Numeric</td>\n",
       "      <td>Known number of vehicles</td>\n",
       "    </tr>\n",
       "    <tr>\n",
       "      <th>89</th>\n",
       "      <td>dwllsize</td>\n",
       "      <td>38308</td>\n",
       "      <td>38.308</td>\n",
       "      <td>object</td>\n",
       "      <td>String</td>\n",
       "      <td>Dwelling size</td>\n",
       "    </tr>\n",
       "    <tr>\n",
       "      <th>88</th>\n",
       "      <td>HHstatin</td>\n",
       "      <td>37923</td>\n",
       "      <td>37.923</td>\n",
       "      <td>object</td>\n",
       "      <td>String</td>\n",
       "      <td>Premier household status indicator</td>\n",
       "    </tr>\n",
       "    <tr>\n",
       "      <th>80</th>\n",
       "      <td>ownrent</td>\n",
       "      <td>33706</td>\n",
       "      <td>33.706</td>\n",
       "      <td>object</td>\n",
       "      <td>String</td>\n",
       "      <td>Home owner/renter status</td>\n",
       "    </tr>\n",
       "    <tr>\n",
       "      <th>82</th>\n",
       "      <td>dwlltype</td>\n",
       "      <td>31909</td>\n",
       "      <td>31.909</td>\n",
       "      <td>object</td>\n",
       "      <td>String</td>\n",
       "      <td>Dwelling Unit type</td>\n",
       "    </tr>\n",
       "    <tr>\n",
       "      <th>81</th>\n",
       "      <td>lor</td>\n",
       "      <td>30190</td>\n",
       "      <td>30.190</td>\n",
       "      <td>float64</td>\n",
       "      <td>Numeric</td>\n",
       "      <td>Length of residence</td>\n",
       "    </tr>\n",
       "    <tr>\n",
       "      <th>86</th>\n",
       "      <td>income</td>\n",
       "      <td>25436</td>\n",
       "      <td>25.436</td>\n",
       "      <td>float64</td>\n",
       "      <td>Numeric</td>\n",
       "      <td>Estimated income</td>\n",
       "    </tr>\n",
       "    <tr>\n",
       "      <th>84</th>\n",
       "      <td>adults</td>\n",
       "      <td>23019</td>\n",
       "      <td>23.019</td>\n",
       "      <td>float64</td>\n",
       "      <td>Numeric</td>\n",
       "      <td>Number of adults in household</td>\n",
       "    </tr>\n",
       "    <tr>\n",
       "      <th>85</th>\n",
       "      <td>infobase</td>\n",
       "      <td>22079</td>\n",
       "      <td>22.079</td>\n",
       "      <td>object</td>\n",
       "      <td>String</td>\n",
       "      <td>InfoBase match</td>\n",
       "    </tr>\n",
       "  </tbody>\n",
       "</table>\n",
       "</div>"
      ],
      "text/plain": [
       "   Column_name  Sum_NaN  NaN_ratio Data_type_x Data_type_y  \\\n",
       "87    numbcars    49366     49.366     float64     Numeric   \n",
       "89    dwllsize    38308     38.308      object      String   \n",
       "88    HHstatin    37923     37.923      object      String   \n",
       "80     ownrent    33706     33.706      object      String   \n",
       "82    dwlltype    31909     31.909      object      String   \n",
       "81         lor    30190     30.190     float64     Numeric   \n",
       "86      income    25436     25.436     float64     Numeric   \n",
       "84      adults    23019     23.019     float64     Numeric   \n",
       "85    infobase    22079     22.079      object      String   \n",
       "\n",
       "                    Column_description  \n",
       "87            Known number of vehicles  \n",
       "89                      Dwelling size   \n",
       "88  Premier household status indicator  \n",
       "80            Home owner/renter status  \n",
       "82                  Dwelling Unit type  \n",
       "81                 Length of residence  \n",
       "86                    Estimated income  \n",
       "84       Number of adults in household  \n",
       "85                      InfoBase match  "
      ]
     },
     "execution_count": 20,
     "metadata": {},
     "output_type": "execute_result"
    }
   ],
   "source": [
    "# yes, I know I could use info() method, but following solution but the following is more readable\n",
    "data_stats = pd.merge(left=nan_info, right=columns_tab, left_on=[\"Column_name\"], right_on=[\"Column_name\"]).sort_values(by=[\"NaN_ratio\"], ascending=False)\n",
    "data_stats[data_stats[\"NaN_ratio\"]>20]\n",
    "# data_stats[data_stats[\"Column_name\"]==\"churn\"]"
   ]
  },
  {
   "cell_type": "markdown",
   "metadata": {},
   "source": [
    "Not bad as it goes for missing data :) There are though variables where more than 20% of data are missing, but never more than a half. Let's do the following:\n",
    "1. In the first solution we'll try to impute the missing data (mean for numbers and most common for categorical)\n",
    "2. In the second solution we'll remove all variables, where more than 20% of data are missing. All other will be imputed the same way as mentioned above\n",
    "\n",
    "Now let's look at some charts to find any outliers... "
   ]
  },
  {
   "cell_type": "code",
   "execution_count": 29,
   "metadata": {},
   "outputs": [],
   "source": [
    "import seaborn as sns"
   ]
  },
  {
   "cell_type": "code",
   "execution_count": 95,
   "metadata": {},
   "outputs": [
    {
     "data": {
      "text/html": [
       "<div>\n",
       "<style scoped>\n",
       "    .dataframe tbody tr th:only-of-type {\n",
       "        vertical-align: middle;\n",
       "    }\n",
       "\n",
       "    .dataframe tbody tr th {\n",
       "        vertical-align: top;\n",
       "    }\n",
       "\n",
       "    .dataframe thead th {\n",
       "        text-align: right;\n",
       "    }\n",
       "</style>\n",
       "<table border=\"1\" class=\"dataframe\">\n",
       "  <thead>\n",
       "    <tr style=\"text-align: right;\">\n",
       "      <th></th>\n",
       "      <th>recv_sms_Mean</th>\n",
       "      <th>comp_vce_Mean</th>\n",
       "      <th>comp_dat_Mean</th>\n",
       "      <th>custcare_Mean</th>\n",
       "      <th>ccrndmou_Mean</th>\n",
       "      <th>cc_mou_Mean</th>\n",
       "      <th>inonemin_Mean</th>\n",
       "      <th>threeway_Mean</th>\n",
       "      <th>mou_cvce_Mean</th>\n",
       "      <th>mou_cdat_Mean</th>\n",
       "      <th>mou_rvce_Mean</th>\n",
       "      <th>owylis_vce_Mean</th>\n",
       "      <th>mouowylisv_Mean</th>\n",
       "      <th>iwylis_vce_Mean</th>\n",
       "      <th>mouiwylisv_Mean</th>\n",
       "      <th>peak_vce_Mean</th>\n",
       "      <th>peak_dat_Mean</th>\n",
       "      <th>mou_peav_Mean</th>\n",
       "      <th>mou_pead_Mean</th>\n",
       "      <th>opk_vce_Mean</th>\n",
       "    </tr>\n",
       "  </thead>\n",
       "  <tbody>\n",
       "    <tr>\n",
       "      <th>0</th>\n",
       "      <td>0.0</td>\n",
       "      <td>45.000000</td>\n",
       "      <td>0.0</td>\n",
       "      <td>0.000000</td>\n",
       "      <td>0.000000</td>\n",
       "      <td>0.000000</td>\n",
       "      <td>18.000000</td>\n",
       "      <td>0.000000</td>\n",
       "      <td>90.643333</td>\n",
       "      <td>0.0</td>\n",
       "      <td>97.176667</td>\n",
       "      <td>0.000000</td>\n",
       "      <td>0.000000</td>\n",
       "      <td>0.000000</td>\n",
       "      <td>0.000000</td>\n",
       "      <td>58.000000</td>\n",
       "      <td>0.0</td>\n",
       "      <td>132.600000</td>\n",
       "      <td>0.0</td>\n",
       "      <td>24.000000</td>\n",
       "    </tr>\n",
       "    <tr>\n",
       "      <th>1</th>\n",
       "      <td>0.0</td>\n",
       "      <td>193.333333</td>\n",
       "      <td>0.0</td>\n",
       "      <td>1.666667</td>\n",
       "      <td>6.333333</td>\n",
       "      <td>5.463333</td>\n",
       "      <td>53.000000</td>\n",
       "      <td>0.333333</td>\n",
       "      <td>189.396667</td>\n",
       "      <td>0.0</td>\n",
       "      <td>55.280000</td>\n",
       "      <td>46.333333</td>\n",
       "      <td>24.216667</td>\n",
       "      <td>6.333333</td>\n",
       "      <td>3.696667</td>\n",
       "      <td>83.666667</td>\n",
       "      <td>0.0</td>\n",
       "      <td>75.333333</td>\n",
       "      <td>0.0</td>\n",
       "      <td>157.000000</td>\n",
       "    </tr>\n",
       "    <tr>\n",
       "      <th>2</th>\n",
       "      <td>0.0</td>\n",
       "      <td>6.000000</td>\n",
       "      <td>0.0</td>\n",
       "      <td>0.000000</td>\n",
       "      <td>0.000000</td>\n",
       "      <td>0.000000</td>\n",
       "      <td>0.333333</td>\n",
       "      <td>0.000000</td>\n",
       "      <td>5.426667</td>\n",
       "      <td>0.0</td>\n",
       "      <td>0.000000</td>\n",
       "      <td>0.000000</td>\n",
       "      <td>0.000000</td>\n",
       "      <td>0.000000</td>\n",
       "      <td>0.000000</td>\n",
       "      <td>5.000000</td>\n",
       "      <td>0.0</td>\n",
       "      <td>5.193333</td>\n",
       "      <td>0.0</td>\n",
       "      <td>1.000000</td>\n",
       "    </tr>\n",
       "    <tr>\n",
       "      <th>3</th>\n",
       "      <td>0.0</td>\n",
       "      <td>3.666667</td>\n",
       "      <td>0.0</td>\n",
       "      <td>0.000000</td>\n",
       "      <td>0.000000</td>\n",
       "      <td>0.000000</td>\n",
       "      <td>1.333333</td>\n",
       "      <td>0.000000</td>\n",
       "      <td>8.410000</td>\n",
       "      <td>0.0</td>\n",
       "      <td>0.413333</td>\n",
       "      <td>0.333333</td>\n",
       "      <td>0.256667</td>\n",
       "      <td>0.000000</td>\n",
       "      <td>0.000000</td>\n",
       "      <td>1.333333</td>\n",
       "      <td>0.0</td>\n",
       "      <td>3.380000</td>\n",
       "      <td>0.0</td>\n",
       "      <td>3.666667</td>\n",
       "    </tr>\n",
       "    <tr>\n",
       "      <th>4</th>\n",
       "      <td>0.0</td>\n",
       "      <td>137.000000</td>\n",
       "      <td>0.0</td>\n",
       "      <td>8.666667</td>\n",
       "      <td>15.000000</td>\n",
       "      <td>11.076667</td>\n",
       "      <td>66.000000</td>\n",
       "      <td>0.000000</td>\n",
       "      <td>285.233333</td>\n",
       "      <td>0.0</td>\n",
       "      <td>106.330000</td>\n",
       "      <td>14.666667</td>\n",
       "      <td>10.816667</td>\n",
       "      <td>0.666667</td>\n",
       "      <td>0.366667</td>\n",
       "      <td>97.333333</td>\n",
       "      <td>0.0</td>\n",
       "      <td>173.476667</td>\n",
       "      <td>0.0</td>\n",
       "      <td>90.333333</td>\n",
       "    </tr>\n",
       "  </tbody>\n",
       "</table>\n",
       "</div>"
      ],
      "text/plain": [
       "   recv_sms_Mean  comp_vce_Mean  comp_dat_Mean  custcare_Mean  ccrndmou_Mean  \\\n",
       "0            0.0      45.000000            0.0       0.000000       0.000000   \n",
       "1            0.0     193.333333            0.0       1.666667       6.333333   \n",
       "2            0.0       6.000000            0.0       0.000000       0.000000   \n",
       "3            0.0       3.666667            0.0       0.000000       0.000000   \n",
       "4            0.0     137.000000            0.0       8.666667      15.000000   \n",
       "\n",
       "   cc_mou_Mean  inonemin_Mean  threeway_Mean  mou_cvce_Mean  mou_cdat_Mean  \\\n",
       "0     0.000000      18.000000       0.000000      90.643333            0.0   \n",
       "1     5.463333      53.000000       0.333333     189.396667            0.0   \n",
       "2     0.000000       0.333333       0.000000       5.426667            0.0   \n",
       "3     0.000000       1.333333       0.000000       8.410000            0.0   \n",
       "4    11.076667      66.000000       0.000000     285.233333            0.0   \n",
       "\n",
       "   mou_rvce_Mean  owylis_vce_Mean  mouowylisv_Mean  iwylis_vce_Mean  \\\n",
       "0      97.176667         0.000000         0.000000         0.000000   \n",
       "1      55.280000        46.333333        24.216667         6.333333   \n",
       "2       0.000000         0.000000         0.000000         0.000000   \n",
       "3       0.413333         0.333333         0.256667         0.000000   \n",
       "4     106.330000        14.666667        10.816667         0.666667   \n",
       "\n",
       "   mouiwylisv_Mean  peak_vce_Mean  peak_dat_Mean  mou_peav_Mean  \\\n",
       "0         0.000000      58.000000            0.0     132.600000   \n",
       "1         3.696667      83.666667            0.0      75.333333   \n",
       "2         0.000000       5.000000            0.0       5.193333   \n",
       "3         0.000000       1.333333            0.0       3.380000   \n",
       "4         0.366667      97.333333            0.0     173.476667   \n",
       "\n",
       "   mou_pead_Mean  opk_vce_Mean  \n",
       "0            0.0     24.000000  \n",
       "1            0.0    157.000000  \n",
       "2            0.0      1.000000  \n",
       "3            0.0      3.666667  \n",
       "4            0.0     90.333333  "
      ]
     },
     "execution_count": 95,
     "metadata": {},
     "output_type": "execute_result"
    }
   ],
   "source": [
    "float_cols = churn_data.dtypes == 'float64'\n",
    "first_20 = churn_data.loc[:, float_cols].iloc[:,20:40]\n",
    "first_20.head()"
   ]
  },
  {
   "cell_type": "code",
   "execution_count": 96,
   "metadata": {},
   "outputs": [
    {
     "data": {
      "text/plain": [
       "<matplotlib.axes._subplots.AxesSubplot at 0x25c937d13c8>"
      ]
     },
     "execution_count": 96,
     "metadata": {},
     "output_type": "execute_result"
    },
    {
     "data": {
      "image/png": "[encoded data removed]",
      "text/plain": [
       "<Figure size 432x288 with 2 Axes>"
      ]
     },
     "metadata": {
      "needs_background": "light"
     },
     "output_type": "display_data"
    }
   ],
   "source": [
    "corr = first_20.corr()\n",
    "corr\n",
    "sns.heatmap(corr, xticklabels=corr.columns, yticklabels=corr.columns, cmap=sns.diverging_palette(220, 10, as_cmap=True))"
   ]
  },
  {
   "cell_type": "code",
   "execution_count": 150,
   "metadata": {},
   "outputs": [
    {
     "data": {
      "text/plain": [
       "'Mean monthly revenue (charge amount)'"
      ]
     },
     "execution_count": 150,
     "metadata": {},
     "output_type": "execute_result"
    }
   ],
   "source": [
    "columns_tab[columns_tab[\"Column_name\"]==\"rev_Mean\"].iloc[0][\"Column_description\"]"
   ]
  },
  {
   "cell_type": "code",
   "execution_count": 152,
   "metadata": {
    "scrolled": false
   },
   "outputs": [
    {
     "name": "stdout",
     "output_type": "stream",
     "text": [
      "Mean monthly revenue (charge amount)\n"
     ]
    },
    {
     "data": {
      "image/png": "[encoded data removed]",
      "text/plain": [
       "<Figure size 432x288 with 1 Axes>"
      ]
     },
     "metadata": {
      "needs_background": "light"
     },
     "output_type": "display_data"
    },
    {
     "name": "stdout",
     "output_type": "stream",
     "text": [
      "Mean number of monthly minutes of use\n"
     ]
    },
    {
     "data": {
      "image/png": "[encoded data removed]",
      "text/plain": [
       "<Figure size 432x288 with 1 Axes>"
      ]
     },
     "metadata": {
      "needs_background": "light"
     },
     "output_type": "display_data"
    },
    {
     "name": "stdout",
     "output_type": "stream",
     "text": [
      "Mean total monthly recurring charge\n"
     ]
    },
    {
     "data": {
      "image/png": "[encoded data removed]",
      "text/plain": [
       "<Figure size 432x288 with 1 Axes>"
      ]
     },
     "metadata": {
      "needs_background": "light"
     },
     "output_type": "display_data"
    },
    {
     "name": "stdout",
     "output_type": "stream",
     "text": [
      "Mean number of directory assisted calls\n"
     ]
    },
    {
     "data": {
      "image/png": "[encoded data removed]",
      "text/plain": [
       "<Figure size 432x288 with 1 Axes>"
      ]
     },
     "metadata": {
      "needs_background": "light"
     },
     "output_type": "display_data"
    },
    {
     "name": "stdout",
     "output_type": "stream",
     "text": [
      "Mean overage minutes of use\n"
     ]
    },
    {
     "data": {
      "image/png": "[encoded data removed]",
      "text/plain": [
       "<Figure size 432x288 with 1 Axes>"
      ]
     },
     "metadata": {
      "needs_background": "light"
     },
     "output_type": "display_data"
    },
    {
     "name": "stdout",
     "output_type": "stream",
     "text": [
      "Mean overage revenue\n"
     ]
    },
    {
     "data": {
      "image/png": "[encoded data removed]",
      "text/plain": [
       "<Figure size 432x288 with 1 Axes>"
      ]
     },
     "metadata": {
      "needs_background": "light"
     },
     "output_type": "display_data"
    },
    {
     "name": "stdout",
     "output_type": "stream",
     "text": [
      "Mean revenue of voice overage \n"
     ]
    },
    {
     "data": {
      "image/png": "[encoded data removed]",
      "text/plain": [
       "<Figure size 432x288 with 1 Axes>"
      ]
     },
     "metadata": {
      "needs_background": "light"
     },
     "output_type": "display_data"
    },
    {
     "name": "stdout",
     "output_type": "stream",
     "text": [
      " Mean revenue of data overage\n"
     ]
    },
    {
     "data": {
      "image/png": "[encoded data removed]",
      "text/plain": [
       "<Figure size 432x288 with 1 Axes>"
      ]
     },
     "metadata": {
      "needs_background": "light"
     },
     "output_type": "display_data"
    },
    {
     "name": "stdout",
     "output_type": "stream",
     "text": [
      "Mean number of roaming calls\n"
     ]
    },
    {
     "data": {
      "image/png": "[encoded data removed]",
      "text/plain": [
       "<Figure size 432x288 with 1 Axes>"
      ]
     },
     "metadata": {
      "needs_background": "light"
     },
     "output_type": "display_data"
    },
    {
     "name": "stdout",
     "output_type": "stream",
     "text": [
      "Percentage change in monthly minutes of use vs previous three month average\n"
     ]
    },
    {
     "data": {
      "image/png": "[encoded data removed]",
      "text/plain": [
       "<Figure size 432x288 with 1 Axes>"
      ]
     },
     "metadata": {
      "needs_background": "light"
     },
     "output_type": "display_data"
    },
    {
     "name": "stdout",
     "output_type": "stream",
     "text": [
      " Percentage change in monthly revenue vs previous three month average\n"
     ]
    },
    {
     "data": {
      "image/png": "[encoded data removed]",
      "text/plain": [
       "<Figure size 432x288 with 1 Axes>"
      ]
     },
     "metadata": {
      "needs_background": "light"
     },
     "output_type": "display_data"
    },
    {
     "name": "stdout",
     "output_type": "stream",
     "text": [
      " Mean number of dropped (failed) voice calls\n"
     ]
    },
    {
     "data": {
      "image/png": "[encoded data removed]",
      "text/plain": [
       "<Figure size 432x288 with 1 Axes>"
      ]
     },
     "metadata": {
      "needs_background": "light"
     },
     "output_type": "display_data"
    },
    {
     "name": "stdout",
     "output_type": "stream",
     "text": [
      "Mean number of dropped (failed) data calls\n"
     ]
    },
    {
     "data": {
      "image/png": "[encoded data removed]",
      "text/plain": [
       "<Figure size 432x288 with 1 Axes>"
      ]
     },
     "metadata": {
      "needs_background": "light"
     },
     "output_type": "display_data"
    },
    {
     "name": "stdout",
     "output_type": "stream",
     "text": [
      "Mean number of blocked (failed) voice calls\n"
     ]
    },
    {
     "data": {
      "image/png": "[encoded data removed]",
      "text/plain": [
       "<Figure size 432x288 with 1 Axes>"
      ]
     },
     "metadata": {
      "needs_background": "light"
     },
     "output_type": "display_data"
    },
    {
     "name": "stdout",
     "output_type": "stream",
     "text": [
      "Mean number of blocked (failed) data calls\n"
     ]
    },
    {
     "data": {
      "image/png": "[encoded data removed]",
      "text/plain": [
       "<Figure size 432x288 with 1 Axes>"
      ]
     },
     "metadata": {
      "needs_background": "light"
     },
     "output_type": "display_data"
    },
    {
     "name": "stdout",
     "output_type": "stream",
     "text": [
      "Mean number of unanswered voice calls\n"
     ]
    },
    {
     "data": {
      "image/png": "[encoded data removed]",
      "text/plain": [
       "<Figure size 432x288 with 1 Axes>"
      ]
     },
     "metadata": {
      "needs_background": "light"
     },
     "output_type": "display_data"
    },
    {
     "name": "stdout",
     "output_type": "stream",
     "text": [
      "Mean number of unanswered data calls\n"
     ]
    },
    {
     "data": {
      "image/png": "[encoded data removed]",
      "text/plain": [
       "<Figure size 432x288 with 1 Axes>"
      ]
     },
     "metadata": {
      "needs_background": "light"
     },
     "output_type": "display_data"
    },
    {
     "name": "stdout",
     "output_type": "stream",
     "text": [
      "Mean number of attempted voice calls placed\n"
     ]
    },
    {
     "data": {
      "image/png": "[encoded data removed]",
      "text/plain": [
       "<Figure size 432x288 with 1 Axes>"
      ]
     },
     "metadata": {
      "needs_background": "light"
     },
     "output_type": "display_data"
    },
    {
     "name": "stdout",
     "output_type": "stream",
     "text": [
      "Mean number of attempted data calls placed\n"
     ]
    },
    {
     "data": {
      "image/png": "[encoded data removed]",
      "text/plain": [
       "<Figure size 432x288 with 1 Axes>"
      ]
     },
     "metadata": {
      "needs_background": "light"
     },
     "output_type": "display_data"
    },
    {
     "name": "stdout",
     "output_type": "stream",
     "text": [
      "Mean number of received voice calls\n"
     ]
    },
    {
     "data": {
      "image/png": "[encoded data removed]",
      "text/plain": [
       "<Figure size 432x288 with 1 Axes>"
      ]
     },
     "metadata": {
      "needs_background": "light"
     },
     "output_type": "display_data"
    },
    {
     "name": "stdout",
     "output_type": "stream",
     "text": [
      " N\n"
     ]
    },
    {
     "data": {
      "image/png": "[encoded data removed]",
      "text/plain": [
       "<Figure size 432x288 with 1 Axes>"
      ]
     },
     "metadata": {
      "needs_background": "light"
     },
     "output_type": "display_data"
    },
    {
     "name": "stdout",
     "output_type": "stream",
     "text": [
      "Mean number of completed voice calls\n"
     ]
    },
    {
     "data": {
      "image/png": "[encoded data removed]",
      "text/plain": [
       "<Figure size 432x288 with 1 Axes>"
      ]
     },
     "metadata": {
      "needs_background": "light"
     },
     "output_type": "display_data"
    },
    {
     "name": "stdout",
     "output_type": "stream",
     "text": [
      "Mean number of completed data calls \n"
     ]
    },
    {
     "data": {
      "image/png": "[encoded data removed]",
      "text/plain": [
       "<Figure size 432x288 with 1 Axes>"
      ]
     },
     "metadata": {
      "needs_background": "light"
     },
     "output_type": "display_data"
    },
    {
     "name": "stdout",
     "output_type": "stream",
     "text": [
      "Mean number of customer care calls\n"
     ]
    },
    {
     "data": {
      "image/png": "[encoded data removed]",
      "text/plain": [
       "<Figure size 432x288 with 1 Axes>"
      ]
     },
     "metadata": {
      "needs_background": "light"
     },
     "output_type": "display_data"
    },
    {
     "name": "stdout",
     "output_type": "stream",
     "text": [
      "Mean rounded minutes of use of customer care calls\n"
     ]
    },
    {
     "data": {
      "image/png": "[encoded data removed]",
      "text/plain": [
       "<Figure size 432x288 with 1 Axes>"
      ]
     },
     "metadata": {
      "needs_background": "light"
     },
     "output_type": "display_data"
    },
    {
     "name": "stdout",
     "output_type": "stream",
     "text": [
      "Mean unrounded minutes of use of customer care (see CUSTCARE_MEAN) calls\n"
     ]
    },
    {
     "data": {
      "image/png": "[encoded data removed]",
      "text/plain": [
       "<Figure size 432x288 with 1 Axes>"
      ]
     },
     "metadata": {
      "needs_background": "light"
     },
     "output_type": "display_data"
    },
    {
     "name": "stdout",
     "output_type": "stream",
     "text": [
      "Mean number of inbound calls less than one minute\n"
     ]
    },
    {
     "data": {
      "image/png": "[encoded data removed]",
      "text/plain": [
       "<Figure size 432x288 with 1 Axes>"
      ]
     },
     "metadata": {
      "needs_background": "light"
     },
     "output_type": "display_data"
    },
    {
     "name": "stdout",
     "output_type": "stream",
     "text": [
      "Mean number of three way calls \n"
     ]
    },
    {
     "data": {
      "image/png": "[encoded data removed]",
      "text/plain": [
       "<Figure size 432x288 with 1 Axes>"
      ]
     },
     "metadata": {
      "needs_background": "light"
     },
     "output_type": "display_data"
    },
    {
     "name": "stdout",
     "output_type": "stream",
     "text": [
      "Mean unrounded minutes of use of completed voice calls\n"
     ]
    },
    {
     "data": {
      "image/png": "[encoded data removed]",
      "text/plain": [
       "<Figure size 432x288 with 1 Axes>"
      ]
     },
     "metadata": {
      "needs_background": "light"
     },
     "output_type": "display_data"
    },
    {
     "name": "stdout",
     "output_type": "stream",
     "text": [
      "Mean unrounded minutes of use of completed data calls\n"
     ]
    },
    {
     "data": {
      "image/png": "[encoded data removed]",
      "text/plain": [
       "<Figure size 432x288 with 1 Axes>"
      ]
     },
     "metadata": {
      "needs_background": "light"
     },
     "output_type": "display_data"
    },
    {
     "name": "stdout",
     "output_type": "stream",
     "text": [
      "Mean unrounded minutes of use of received voice calls \n"
     ]
    },
    {
     "data": {
      "image/png": "[encoded data removed]",
      "text/plain": [
       "<Figure size 432x288 with 1 Axes>"
      ]
     },
     "metadata": {
      "needs_background": "light"
     },
     "output_type": "display_data"
    },
    {
     "name": "stdout",
     "output_type": "stream",
     "text": [
      "Mean number of outbound wireless to wireless voice calls \n"
     ]
    },
    {
     "data": {
      "image/png": "[encoded data removed]",
      "text/plain": [
       "<Figure size 432x288 with 1 Axes>"
      ]
     },
     "metadata": {
      "needs_background": "light"
     },
     "output_type": "display_data"
    },
    {
     "name": "stdout",
     "output_type": "stream",
     "text": [
      "Mean unrounded minutes of use of outbound wireless to wireless voice calls\n"
     ]
    },
    {
     "data": {
      "image/png": "[encoded data removed]",
      "text/plain": [
       "<Figure size 432x288 with 1 Axes>"
      ]
     },
     "metadata": {
      "needs_background": "light"
     },
     "output_type": "display_data"
    },
    {
     "name": "stdout",
     "output_type": "stream",
     "text": [
      " N\n"
     ]
    },
    {
     "data": {
      "image/png": "[encoded data removed]",
      "text/plain": [
       "<Figure size 432x288 with 1 Axes>"
      ]
     },
     "metadata": {
      "needs_background": "light"
     },
     "output_type": "display_data"
    },
    {
     "name": "stdout",
     "output_type": "stream",
     "text": [
      "Mean unrounded minutes of use of inbound wireless to wireless voice calls\n"
     ]
    },
    {
     "data": {
      "image/png": "[encoded data removed]",
      "text/plain": [
       "<Figure size 432x288 with 1 Axes>"
      ]
     },
     "metadata": {
      "needs_background": "light"
     },
     "output_type": "display_data"
    },
    {
     "name": "stdout",
     "output_type": "stream",
     "text": [
      "Mean number of inbound and outbound peak voice calls\n"
     ]
    },
    {
     "data": {
      "image/png": "[encoded data removed]",
      "text/plain": [
       "<Figure size 432x288 with 1 Axes>"
      ]
     },
     "metadata": {
      "needs_background": "light"
     },
     "output_type": "display_data"
    },
    {
     "name": "stdout",
     "output_type": "stream",
     "text": [
      "Mean number of peak data calls\n"
     ]
    },
    {
     "data": {
      "image/png": "[encoded data removed]",
      "text/plain": [
       "<Figure size 432x288 with 1 Axes>"
      ]
     },
     "metadata": {
      "needs_background": "light"
     },
     "output_type": "display_data"
    },
    {
     "name": "stdout",
     "output_type": "stream",
     "text": [
      "Mean unrounded minutes of use of peak voice calls\n"
     ]
    },
    {
     "data": {
      "image/png": "[encoded data removed]",
      "text/plain": [
       "<Figure size 432x288 with 1 Axes>"
      ]
     },
     "metadata": {
      "needs_background": "light"
     },
     "output_type": "display_data"
    },
    {
     "name": "stdout",
     "output_type": "stream",
     "text": [
      "Mean unrounded minutes of use of peak data calls\n"
     ]
    },
    {
     "data": {
      "image/png": "[encoded data removed]",
      "text/plain": [
       "<Figure size 432x288 with 1 Axes>"
      ]
     },
     "metadata": {
      "needs_background": "light"
     },
     "output_type": "display_data"
    },
    {
     "name": "stdout",
     "output_type": "stream",
     "text": [
      "Mean number of off-peak voice calls\n"
     ]
    },
    {
     "data": {
      "image/png": "[encoded data removed]",
      "text/plain": [
       "<Figure size 432x288 with 1 Axes>"
      ]
     },
     "metadata": {
      "needs_background": "light"
     },
     "output_type": "display_data"
    },
    {
     "name": "stdout",
     "output_type": "stream",
     "text": [
      "Mean number of off-peak data calls\n"
     ]
    },
    {
     "data": {
      "image/png": "[encoded data removed]",
      "text/plain": [
       "<Figure size 432x288 with 1 Axes>"
      ]
     },
     "metadata": {
      "needs_background": "light"
     },
     "output_type": "display_data"
    },
    {
     "name": "stdout",
     "output_type": "stream",
     "text": [
      "Mean unrounded minutes of use of off-peak voice calls\n"
     ]
    },
    {
     "data": {
      "image/png": "[encoded data removed]",
      "text/plain": [
       "<Figure size 432x288 with 1 Axes>"
      ]
     },
     "metadata": {
      "needs_background": "light"
     },
     "output_type": "display_data"
    },
    {
     "name": "stdout",
     "output_type": "stream",
     "text": [
      "Mean unrounded minutes of use of off-peak data calls\n"
     ]
    },
    {
     "data": {
      "image/png": "[encoded data removed]",
      "text/plain": [
       "<Figure size 432x288 with 1 Axes>"
      ]
     },
     "metadata": {
      "needs_background": "light"
     },
     "output_type": "display_data"
    },
    {
     "name": "stdout",
     "output_type": "stream",
     "text": [
      "Mean number of dropped or blocked calls\n"
     ]
    },
    {
     "data": {
      "image/png": "[encoded data removed]",
      "text/plain": [
       "<Figure size 432x288 with 1 Axes>"
      ]
     },
     "metadata": {
      "needs_background": "light"
     },
     "output_type": "display_data"
    },
    {
     "name": "stdout",
     "output_type": "stream",
     "text": [
      "Mean number of attempted calls \n"
     ]
    },
    {
     "data": {
      "image/png": "[encoded data removed]",
      "text/plain": [
       "<Figure size 432x288 with 1 Axes>"
      ]
     },
     "metadata": {
      "needs_background": "light"
     },
     "output_type": "display_data"
    },
    {
     "name": "stdout",
     "output_type": "stream",
     "text": [
      "Mean number of completed calls\n"
     ]
    },
    {
     "data": {
      "image/png": "[encoded data removed]",
      "text/plain": [
       "<Figure size 432x288 with 1 Axes>"
      ]
     },
     "metadata": {
      "needs_background": "light"
     },
     "output_type": "display_data"
    },
    {
     "name": "stdout",
     "output_type": "stream",
     "text": [
      " Mean number of call forwarding calls \n"
     ]
    },
    {
     "data": {
      "image/png": "[encoded data removed]",
      "text/plain": [
       "<Figure size 432x288 with 1 Axes>"
      ]
     },
     "metadata": {
      "needs_background": "light"
     },
     "output_type": "display_data"
    },
    {
     "name": "stdout",
     "output_type": "stream",
     "text": [
      "Mean number of call waiting calls\n"
     ]
    },
    {
     "data": {
      "image/png": "[encoded data removed]",
      "text/plain": [
       "<Figure size 432x288 with 1 Axes>"
      ]
     },
     "metadata": {
      "needs_background": "light"
     },
     "output_type": "display_data"
    },
    {
     "name": "stdout",
     "output_type": "stream",
     "text": [
      "Total minutes of use over the life of the customer\n"
     ]
    },
    {
     "data": {
      "image/png": "[encoded data removed]",
      "text/plain": [
       "<Figure size 432x288 with 1 Axes>"
      ]
     },
     "metadata": {
      "needs_background": "light"
     },
     "output_type": "display_data"
    },
    {
     "name": "stdout",
     "output_type": "stream",
     "text": [
      "Total revenue\n"
     ]
    },
    {
     "data": {
      "image/png": "[encoded data removed]",
      "text/plain": [
       "<Figure size 432x288 with 1 Axes>"
      ]
     },
     "metadata": {
      "needs_background": "light"
     },
     "output_type": "display_data"
    },
    {
     "name": "stdout",
     "output_type": "stream",
     "text": [
      "Billing adjusted total revenue over the life of the customer\n"
     ]
    },
    {
     "data": {
      "image/png": "[encoded data removed]",
      "text/plain": [
       "<Figure size 432x288 with 1 Axes>"
      ]
     },
     "metadata": {
      "needs_background": "light"
     },
     "output_type": "display_data"
    },
    {
     "name": "stdout",
     "output_type": "stream",
     "text": [
      "Billing adjusted total minutes of use over the life of the customer\n"
     ]
    },
    {
     "data": {
      "image/png": "[encoded data removed]",
      "text/plain": [
       "<Figure size 432x288 with 1 Axes>"
      ]
     },
     "metadata": {
      "needs_background": "light"
     },
     "output_type": "display_data"
    },
    {
     "name": "stdout",
     "output_type": "stream",
     "text": [
      "Average monthly revenue over the life of the customer\n"
     ]
    },
    {
     "data": {
      "image/png": "[encoded data removed]",
      "text/plain": [
       "<Figure size 432x288 with 1 Axes>"
      ]
     },
     "metadata": {
      "needs_background": "light"
     },
     "output_type": "display_data"
    },
    {
     "name": "stdout",
     "output_type": "stream",
     "text": [
      "Average monthly minutes of use over the life of the customer\n"
     ]
    },
    {
     "data": {
      "image/png": "[encoded data removed]",
      "text/plain": [
       "<Figure size 432x288 with 1 Axes>"
      ]
     },
     "metadata": {
      "needs_background": "light"
     },
     "output_type": "display_data"
    },
    {
     "name": "stdout",
     "output_type": "stream",
     "text": [
      "Average monthly number of calls over the life of the customer\n"
     ]
    },
    {
     "data": {
      "image/png": "[encoded data removed]",
      "text/plain": [
       "<Figure size 432x288 with 1 Axes>"
      ]
     },
     "metadata": {
      "needs_background": "light"
     },
     "output_type": "display_data"
    },
    {
     "name": "stdout",
     "output_type": "stream",
     "text": [
      "Average monthly minutes of use over the previous six months\n"
     ]
    },
    {
     "data": {
      "image/png": "[encoded data removed]",
      "text/plain": [
       "<Figure size 432x288 with 1 Axes>"
      ]
     },
     "metadata": {
      "needs_background": "light"
     },
     "output_type": "display_data"
    },
    {
     "name": "stdout",
     "output_type": "stream",
     "text": [
      "Average monthly number of calls over the previous six months\n"
     ]
    },
    {
     "data": {
      "image/png": "[encoded data removed]",
      "text/plain": [
       "<Figure size 432x288 with 1 Axes>"
      ]
     },
     "metadata": {
      "needs_background": "light"
     },
     "output_type": "display_data"
    },
    {
     "name": "stdout",
     "output_type": "stream",
     "text": [
      "Average monthly revenue over the previous six months \n"
     ]
    },
    {
     "data": {
      "image/png": "[encoded data removed]",
      "text/plain": [
       "<Figure size 432x288 with 1 Axes>"
      ]
     },
     "metadata": {
      "needs_background": "light"
     },
     "output_type": "display_data"
    },
    {
     "name": "stdout",
     "output_type": "stream",
     "text": [
      "Current handset price\n"
     ]
    },
    {
     "data": {
      "image/png": "[encoded data removed]",
      "text/plain": [
       "<Figure size 432x288 with 1 Axes>"
      ]
     },
     "metadata": {
      "needs_background": "light"
     },
     "output_type": "display_data"
    },
    {
     "name": "stdout",
     "output_type": "stream",
     "text": [
      " Number of handsets issued\n"
     ]
    },
    {
     "data": {
      "image/png": "[encoded data removed]",
      "text/plain": [
       "<Figure size 432x288 with 1 Axes>"
      ]
     },
     "metadata": {
      "needs_background": "light"
     },
     "output_type": "display_data"
    },
    {
     "name": "stdout",
     "output_type": "stream",
     "text": [
      "Number of models issued\n"
     ]
    },
    {
     "data": {
      "image/png": "[encoded data removed]",
      "text/plain": [
       "<Figure size 432x288 with 1 Axes>"
      ]
     },
     "metadata": {
      "needs_background": "light"
     },
     "output_type": "display_data"
    },
    {
     "name": "stdout",
     "output_type": "stream",
     "text": [
      "Truck indicator \n"
     ]
    },
    {
     "data": {
      "image/png": "[encoded data removed]",
      "text/plain": [
       "<Figure size 432x288 with 1 Axes>"
      ]
     },
     "metadata": {
      "needs_background": "light"
     },
     "output_type": "display_data"
    },
    {
     "name": "stdout",
     "output_type": "stream",
     "text": [
      "RV indicator\n"
     ]
    },
    {
     "data": {
      "image/png": "[encoded data removed]",
      "text/plain": [
       "<Figure size 432x288 with 1 Axes>"
      ]
     },
     "metadata": {
      "needs_background": "light"
     },
     "output_type": "display_data"
    },
    {
     "name": "stdout",
     "output_type": "stream",
     "text": [
      "Length of residence\n"
     ]
    },
    {
     "data": {
      "image/png": "[encoded data removed]",
      "text/plain": [
       "<Figure size 432x288 with 1 Axes>"
      ]
     },
     "metadata": {
      "needs_background": "light"
     },
     "output_type": "display_data"
    },
    {
     "name": "stdout",
     "output_type": "stream",
     "text": [
      "Number of adults in household\n"
     ]
    },
    {
     "data": {
      "image/png": "[encoded data removed]",
      "text/plain": [
       "<Figure size 432x288 with 1 Axes>"
      ]
     },
     "metadata": {
      "needs_background": "light"
     },
     "output_type": "display_data"
    },
    {
     "name": "stdout",
     "output_type": "stream",
     "text": [
      "Estimated income\n"
     ]
    },
    {
     "data": {
      "image/png": "[encoded data removed]",
      "text/plain": [
       "<Figure size 432x288 with 1 Axes>"
      ]
     },
     "metadata": {
      "needs_background": "light"
     },
     "output_type": "display_data"
    },
    {
     "name": "stdout",
     "output_type": "stream",
     "text": [
      "Known number of vehicles\n"
     ]
    },
    {
     "data": {
      "image/png": "[encoded data removed]",
      "text/plain": [
       "<Figure size 432x288 with 1 Axes>"
      ]
     },
     "metadata": {
      "needs_background": "light"
     },
     "output_type": "display_data"
    },
    {
     "name": "stdout",
     "output_type": "stream",
     "text": [
      "Foreign travel dummy variable\n"
     ]
    },
    {
     "data": {
      "image/png": "[encoded data removed]",
      "text/plain": [
       "<Figure size 432x288 with 1 Axes>"
      ]
     },
     "metadata": {
      "needs_background": "light"
     },
     "output_type": "display_data"
    },
    {
     "name": "stdout",
     "output_type": "stream",
     "text": [
      "Number of days (age) of current equipment\n"
     ]
    },
    {
     "data": {
      "image/png": "[encoded data removed]",
      "text/plain": [
       "<Figure size 432x288 with 1 Axes>"
      ]
     },
     "metadata": {
      "needs_background": "light"
     },
     "output_type": "display_data"
    }
   ],
   "source": [
    "from matplotlib import pyplot as plt\n",
    "for col in churn_data.loc[:, float_cols]:\n",
    "#     print(columns_tab[col].str())\n",
    "    print(columns_tab[columns_tab[\"Column_name\"]==col].iloc[0][\"Column_description\"])\n",
    "    sns.boxplot(x=churn_data[col])\n",
    "    plt.show()"
   ]
  },
  {
   "cell_type": "markdown",
   "metadata": {},
   "source": []
  },
  {
   "cell_type": "code",
   "execution_count": null,
   "metadata": {},
   "outputs": [],
   "source": []
  },
  {
   "cell_type": "code",
   "execution_count": null,
   "metadata": {},
   "outputs": [],
   "source": []
  },
  {
   "cell_type": "code",
   "execution_count": null,
   "metadata": {},
   "outputs": [],
   "source": []
  },
  {
   "cell_type": "code",
   "execution_count": null,
   "metadata": {},
   "outputs": [],
   "source": []
  }
 ],
 "metadata": {
  "kernelspec": {
   "display_name": "Python 3",
   "language": "python",
   "name": "python3"
  },
  "language_info": {
   "codemirror_mode": {
    "name": "ipython",
    "version": 3
   },
   "file_extension": ".py",
   "mimetype": "text/x-python",
   "name": "python",
   "nbconvert_exporter": "python",
   "pygments_lexer": "ipython3",
   "version": "3.6.6"
  }
 },
 "nbformat": 4,
 "nbformat_minor": 2
}
